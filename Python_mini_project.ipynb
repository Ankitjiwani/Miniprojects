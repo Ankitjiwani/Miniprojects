{
 "cells": [
  {
   "cell_type": "markdown",
   "metadata": {},
   "source": [
    "# <center>PGP Data Science Engineering</center>\n",
    "## <center>Introduction to Programming – Mini Project:</center>\n"
   ]
  },
  {
   "cell_type": "markdown",
   "metadata": {},
   "source": [
    "### Problem 1:\n",
    "\n",
    "1. Write a program to calculate area of shapes. Your program should be capable of calculating the area of a square, rectangle, triangle and a circle. The user should be presented with options to select the shape. Based on which shape is chosed by the user, the program should ask for the appropriate input and print the resulting area on the screen.\n",
    "\n",
    "When the program is run, the screen should display something like this:\n",
    "\n",
    "**Which shape would you like to calculate the area for? Please enter the option number-**<br>\n",
    "**1. Square**<br>\n",
    "**2. Rectangle**<br>\n",
    "**3. Triangle**<br>\n",
    "**4. Circle**<br>\n",
    "**Enter Option: _**\n",
    "\n",
    "Say the user enters the option 1.\n",
    "\n",
    "**Please enter the length of a side: _**\n",
    "\n",
    "If the user enters a value of 5. The output should be:\n",
    "\n",
    "**The area of the square is 25**\n",
    "\n",
    "This program should indicate that the input is invalid if the user enters a character instead of a number as input. For instance if the user enters a value of ‘a’ instead of 5 in the previous example the program should prompt:\n",
    "\n",
    "**Invalid input, please enter a number: _**\n"
   ]
  },
  {
   "cell_type": "code",
   "execution_count": 13,
   "metadata": {},
   "outputs": [
    {
     "name": "stdout",
     "output_type": "stream",
     "text": [
      "Which shape would you like to calculate the area for? Please enter the option number-\n",
      "        1. Square\n",
      "        2. Rectangle\n",
      "        3. Triangle\n",
      "        4. Circle\n",
      "        Enter Option:r\n",
      "Invalid input, please enter a number:\n",
      "Which shape would you like to calculate the area for? Please enter the option number-\n",
      "        1. Square\n",
      "        2. Rectangle\n",
      "        3. Triangle\n",
      "        4. Circle\n",
      "        Enter Option:6\n",
      "!!!!!!!!!!!!!!!!Select correct numeric option!!!!!!!!!!!!!!!!\n",
      "Which shape would you like to calculate the area for? Please enter the option number-\n",
      "        1. Square\n",
      "        2. Rectangle\n",
      "        3. Triangle\n",
      "        4. Circle\n",
      "        Enter Option:2\n",
      "Enter length of the rectangle: 3\n",
      "Enter width of the rectangle: 4\n",
      "The area of Rectangle is  12\n",
      "Do you want to continue?(y/n)y\n",
      "Which shape would you like to calculate the area for? Please enter the option number-\n",
      "        1. Square\n",
      "        2. Rectangle\n",
      "        3. Triangle\n",
      "        4. Circle\n",
      "        Enter Option:1\n",
      "Enter side of the square: 4\n",
      "The area of Square is  16\n",
      "Do you want to continue?(y/n)n\n"
     ]
    }
   ],
   "source": [
    "from math import pi\n",
    "ans = 'y'\n",
    "while ans == 'y':\n",
    "    try:\n",
    "        option = int(input('''Which shape would you like to calculate the area for? Please enter the option number-\n",
    "        1. Square\n",
    "        2. Rectangle\n",
    "        3. Triangle\n",
    "        4. Circle\n",
    "        Enter Option:'''))\n",
    "\n",
    "        if option == 1:\n",
    "            l = int(input(\"Enter side of the square: \"))\n",
    "            print(\"The area of Square is \",l*l)\n",
    "            ans=input(\"Do you want to continue?(y/n)\")\n",
    "\n",
    "        elif option == 2:\n",
    "            l = int(input(\"Enter length of the rectangle: \"))\n",
    "            w = int(input(\"Enter width of the rectangle: \"))\n",
    "            print(\"The area of Rectangle is \",l*w)\n",
    "            ans=input(\"Do you want to continue?(y/n)\")\n",
    "\n",
    "        elif option == 3:\n",
    "            b = int(input(\"Enter base of the triangle: \"))\n",
    "            h = int(input(\"Enter height of the triangle: \"))\n",
    "            print(\"The area of Triangle is \",1/2*b*h) \n",
    "            ans=input(\"Do you want to continue?(y/n)\")\n",
    "\n",
    "        elif option == 4:\n",
    "            r = int(input(\"Enter radius of the circle: \"))\n",
    "            print(\"The area of Circle is \",round(2 * pi * r**2))\n",
    "            ans=input(\"Do you want to continue?(y/n)\")\n",
    "\n",
    "        else:\n",
    "            print(\"!!!!!!!!!!!!!!!!Select correct numeric option!!!!!!!!!!!!!!!!\")\n",
    "    except ValueError:\n",
    "        print(\"Invalid input, please enter a number:\")"
   ]
  },
  {
   "cell_type": "markdown",
   "metadata": {},
   "source": [
    "### Problem 2:\n",
    "\n",
    "Create and encrypter in python based on the ceaser cipher. It is a substitution cipher where each character of the original text is shifted a certain number characters in the alphabet. Write a function that would require 2 arguments – the input text to be encrypted and a key. For eg: Given the input text ‘hello’ and the key 3, the resulting encryted text would be ‘khoor’. Here you can see that every character in the string hello is shifted by 3 characters. ‘h’ has shifted to ‘k’, ‘e’ has shifted to ‘h’ and so on. If a key of 5 were used, the resulting string would be ‘mjqqt’. This function should be capable of ignoring any characters which are not alphabets. Th2 character ‘z’ entered b\n",
    "y the user for a key of 3 would result in ‘c’.\n",
    "\n",
    "Usage:<br>\n",
    "**encrypt(‘hello world!’, 3)**<br>\n",
    "**‘khoor zruog!’**\n",
    "\n",
    "Similarly create decrypter which can decode the encryted text when provided the input text and key\n",
    "\n",
    "Usage:<br>\n",
    "**decrypt(‘khoor zruog!’, 3)**<br>\n",
    "**‘hello world!’**\n",
    "\n",
    "For the sake of simplicity you can assume that input solely consists of lowercase alphabets, spaces and punctuation symbols. Numbers in the input text would also be ignored similar to symbols."
   ]
  },
  {
   "cell_type": "code",
   "execution_count": 10,
   "metadata": {},
   "outputs": [
    {
     "name": "stdout",
     "output_type": "stream",
     "text": [
      "Encrypted: khoor zruog!\n",
      "Decrypted: hello world!\n"
     ]
    }
   ],
   "source": [
    "key = 'abcdefghijklmnopqrstuvwxyz'\n",
    "\n",
    "def encrypt(n, plaintext):\n",
    "    result = ''\n",
    "\n",
    "    for l in plaintext.lower():\n",
    "        try:\n",
    "            i = (key.index(l) + n) % 26\n",
    "            result += key[i]\n",
    "        except ValueError:\n",
    "            result += l\n",
    "\n",
    "    return result.lower()\n",
    "\n",
    "def decrypt(n, ciphertext):\n",
    "    result = ''\n",
    "\n",
    "    for l in ciphertext:\n",
    "        try:\n",
    "            i = (key.index(l) - n) % 26\n",
    "            result += key[i]\n",
    "        except ValueError:\n",
    "            result += l\n",
    "\n",
    "    return result\n",
    "\n",
    "text = \"hello world!\"\n",
    "s = 3\n",
    "\n",
    "encrypted = encrypt(s, text)\n",
    "print('Encrypted:', encrypted)\n",
    "\n",
    "decrypted = decrypt(s, encrypted)\n",
    "print('Decrypted:', decrypted)"
   ]
  }
 ],
 "metadata": {
  "kernelspec": {
   "display_name": "Python 3",
   "language": "python",
   "name": "python3"
  },
  "language_info": {
   "codemirror_mode": {
    "name": "ipython",
    "version": 3
   },
   "file_extension": ".py",
   "mimetype": "text/x-python",
   "name": "python",
   "nbconvert_exporter": "python",
   "pygments_lexer": "ipython3",
   "version": "3.7.6"
  }
 },
 "nbformat": 4,
 "nbformat_minor": 2
}
